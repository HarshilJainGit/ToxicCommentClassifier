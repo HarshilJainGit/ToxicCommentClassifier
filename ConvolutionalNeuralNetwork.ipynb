{
 "cells": [
  {
   "cell_type": "markdown",
   "metadata": {},
   "source": [
    "### Convolution Neural Network"
   ]
  },
  {
   "cell_type": "markdown",
   "metadata": {},
   "source": [
    "This model is implemented using CNN. Text data is converted to numeric and then word embeddings are obtained for each word using pre-trained word2vec weights."
   ]
  },
  {
   "cell_type": "code",
   "execution_count": 1,
   "metadata": {},
   "outputs": [
    {
     "name": "stderr",
     "output_type": "stream",
     "text": [
      "Using TensorFlow backend.\n"
     ]
    }
   ],
   "source": [
    "#!/usr/bin/env python3\n",
    "\n",
    "import json\n",
    "import numpy as np\n",
    "import pandas as pd\n",
    "from sklearn.model_selection import train_test_split\n",
    "from keras.models import Model\n",
    "from keras.layers import Input, Embedding, Dense, Conv2D, MaxPool2D\n",
    "from keras.layers import Reshape, Flatten, Concatenate, Dropout, SpatialDropout1D\n",
    "from keras.preprocessing import text, sequence\n",
    "from keras.callbacks import Callback"
   ]
  },
  {
   "cell_type": "code",
   "execution_count": 2,
   "metadata": {},
   "outputs": [],
   "source": [
    "np.random.seed(42)\n",
    "\n",
    "# Constants for embedding matrix\n",
    "max_features = 100000\n",
    "maxlen = 200\n",
    "embed_size = 300"
   ]
  },
  {
   "cell_type": "code",
   "execution_count": 3,
   "metadata": {},
   "outputs": [],
   "source": [
    "def load_data():\n",
    "    '''\n",
    "    This function loads text data from csv files, converts into numeric\n",
    "    values  and retunrs as train, test and labels. It also returns embedding\n",
    "    matrix which stores weights of embedding layer for each word.\n",
    "    '''\n",
    "    print('Loading data...')\n",
    "    # If your data is stored somewhere else, give \n",
    "    # appropriate path here\n",
    "    train = pd.read_csv('./data/train.csv')\n",
    "    test = pd.read_csv('./data/test.csv')\n",
    "\n",
    "    X_train = train['comment_text'].fillna('fillna').values\n",
    "    y_train = train[['toxic', 'severe_toxic', 'obscene', 'threat', 'insult', 'identity_hate']].values\n",
    "    X_test = test['comment_text'].fillna('fillna').values\n",
    "    \n",
    "    # Convert text to numeric sequences and pad them\n",
    "    tokenizer = text.Tokenizer(num_words=max_features)\n",
    "    tokenizer.fit_on_texts(list(X_train) + list(X_test))\n",
    "    X_train = tokenizer.texts_to_sequences(X_train)\n",
    "    X_test = tokenizer.texts_to_sequences(X_test)\n",
    "    x_train = sequence.pad_sequences(X_train, maxlen=maxlen)\n",
    "    x_test = sequence.pad_sequences(X_test, maxlen=maxlen)\n",
    "    \n",
    "    data = (x_train, y_train, x_test)\n",
    "        \n",
    "    # Get weights for embedding layer\n",
    "    embedding_matrix = get_embedding_weights(tokenizer)\n",
    "    \n",
    "    return data, embedding_matrix"
   ]
  },
  {
   "cell_type": "code",
   "execution_count": 4,
   "metadata": {},
   "outputs": [],
   "source": [
    "# Helper function to create embedding matrix\n",
    "def get_coefs(word, *arr): \n",
    "    return word, np.asarray(arr, dtype='float32')"
   ]
  },
  {
   "cell_type": "code",
   "execution_count": 5,
   "metadata": {},
   "outputs": [],
   "source": [
    "# Get weights for the embedding layer from a pre-trained model\n",
    "def get_embedding_weights(tokenizer):\n",
    "    \n",
    "    print('Getting weights for the embedding layer...')\n",
    "    \n",
    "    # Create a dictionary to store mappings of pre-trained \n",
    "    # embedding weights from the embedding file\n",
    "    # Give appropriate path here\n",
    "    EMBEDDING_FILE = './crawl-300d-2M.vec/crawl-300d-2M.vec'\n",
    "    embeddings_index = dict(get_coefs(*o.rstrip().rsplit(' ')) for o in open(EMBEDDING_FILE, encoding='utf-8'))\n",
    "\n",
    "    # Get the dictionary of word to index mappings for our data\n",
    "    word_index = tokenizer.word_index\n",
    "    # Count number of words from it\n",
    "    nb_words = min(max_features, len(word_index))\n",
    "    \n",
    "    # Create an embedding matrix of appropriate size\n",
    "    # to store weights for the words in our data\n",
    "    embedding_matrix = np.zeros((nb_words, embed_size))\n",
    "    \n",
    "    # Iterate through each word in the data to get its\n",
    "    # corresponding weight\n",
    "    for word, i in word_index.items():\n",
    "        if i >= max_features: continue\n",
    "        embedding_vector = embeddings_index.get(word)\n",
    "        if embedding_vector is not None: \n",
    "            embedding_matrix[i] = embedding_vector\n",
    "            \n",
    "    return embedding_matrix"
   ]
  },
  {
   "cell_type": "code",
   "execution_count": 6,
   "metadata": {},
   "outputs": [],
   "source": [
    "def compile_model(embedding_matrix):\n",
    "    \n",
    "    print('Compiling model...')\n",
    "    # Constant for model architecture\n",
    "    filter_sizes = [1,2,3,5]\n",
    "    num_filters = 32\n",
    "    \n",
    "    # Construct and compile the model\n",
    "    inp = Input(shape=(maxlen, ))\n",
    "    x = Embedding(max_features, embed_size, weights=[embedding_matrix])(inp)\n",
    "    x = SpatialDropout1D(0.4)(x)\n",
    "    x = Reshape((maxlen, embed_size, 1))(x)\n",
    "    \n",
    "    conv_0 = Conv2D(num_filters, kernel_size=(filter_sizes[0], embed_size), \n",
    "                    kernel_initializer='normal', activation='elu')(x)\n",
    "    conv_1 = Conv2D(num_filters, kernel_size=(filter_sizes[1], embed_size), \n",
    "                    kernel_initializer='normal', activation='elu')(x)\n",
    "    conv_2 = Conv2D(num_filters, kernel_size=(filter_sizes[2], embed_size), \n",
    "                    kernel_initializer='normal', activation='elu')(x)\n",
    "    conv_3 = Conv2D(num_filters, kernel_size=(filter_sizes[3], embed_size), \n",
    "                    kernel_initializer='normal', activation='elu')(x)\n",
    "    \n",
    "    maxpool_0 = MaxPool2D(pool_size=(maxlen - filter_sizes[0] + 1, 1))(conv_0)\n",
    "    maxpool_1 = MaxPool2D(pool_size=(maxlen - filter_sizes[1] + 1, 1))(conv_1)\n",
    "    maxpool_2 = MaxPool2D(pool_size=(maxlen - filter_sizes[2] + 1, 1))(conv_2)\n",
    "    maxpool_3 = MaxPool2D(pool_size=(maxlen - filter_sizes[3] + 1, 1))(conv_3)\n",
    "        \n",
    "    z = Concatenate(axis=1)([maxpool_0, maxpool_1, maxpool_2, maxpool_3])   \n",
    "    z = Flatten()(z)\n",
    "    z = Dropout(0.1)(z)\n",
    "        \n",
    "    outp = Dense(6, activation='sigmoid')(z)\n",
    "    \n",
    "    model = Model(inputs=inp, outputs=outp)\n",
    "    model.compile(loss='binary_crossentropy', optimizer='adam', metrics=['accuracy'])\n",
    "\n",
    "    return model"
   ]
  },
  {
   "cell_type": "code",
   "execution_count": 7,
   "metadata": {},
   "outputs": [],
   "source": [
    "def run_network(data, model, batch_size=256, epochs=3):\n",
    "    \n",
    "    x_train, y_train, x_test = data\n",
    "\n",
    "    print('Splitting data...')\n",
    "    # Split data\n",
    "    X_train, X_val, y_train, y_val = train_test_split(\n",
    "        x_train, y_train, train_size=0.95, random_state=233)\n",
    "    \n",
    "    X_train.reshape((X_train.shape[0], maxlen))\n",
    "    X_val.reshape((X_val.shape[0], maxlen))\n",
    "\n",
    "    print('Training the model...')\n",
    "    # Fir the data\n",
    "    hist = model.fit(X_train, y_train, \n",
    "                     batch_size=batch_size, epochs=epochs, \n",
    "                     validation_data=(X_val, y_val), verbose=1)\n",
    "\n",
    "    print('Predicting on the unseen data...')\n",
    "    # Predict\n",
    "    y_pred = model.predict(x_test, batch_size=1024)\n",
    "    \n",
    "    # Save results\n",
    "    submission = pd.read_csv('./data/sample_submission.csv')\n",
    "    submission[\n",
    "        ['toxic', 'severe_toxic', 'obscene', \n",
    "         'threat', 'insult', 'identity_hate']] = y_pred\n",
    "    submission.to_csv('cnn_results.csv', index=False)\n",
    "    \n",
    "    print('Predictions done... Results saved successfully!')\n",
    "    \n",
    "    return hist"
   ]
  },
  {
   "cell_type": "code",
   "execution_count": 8,
   "metadata": {},
   "outputs": [
    {
     "name": "stdout",
     "output_type": "stream",
     "text": [
      "Loading data...\n",
      "Getting weights for the embedding layer...\n",
      "Compiling model...\n",
      "WARNING:tensorflow:From /home/jain.har/.local/lib/python3.6/site-packages/tensorflow/python/framework/op_def_library.py:263: colocate_with (from tensorflow.python.framework.ops) is deprecated and will be removed in a future version.\n",
      "Instructions for updating:\n",
      "Colocations handled automatically by placer.\n",
      "WARNING:tensorflow:From /home/jain.har/.local/lib/python3.6/site-packages/keras/backend/tensorflow_backend.py:3445: calling dropout (from tensorflow.python.ops.nn_ops) with keep_prob is deprecated and will be removed in a future version.\n",
      "Instructions for updating:\n",
      "Please use `rate` instead of `keep_prob`. Rate should be set to `rate = 1 - keep_prob`.\n",
      "Splitting data...\n",
      "Training the model...\n",
      "WARNING:tensorflow:From /home/jain.har/.local/lib/python3.6/site-packages/tensorflow/python/ops/math_ops.py:3066: to_int32 (from tensorflow.python.ops.math_ops) is deprecated and will be removed in a future version.\n",
      "Instructions for updating:\n",
      "Use tf.cast instead.\n"
     ]
    },
    {
     "name": "stderr",
     "output_type": "stream",
     "text": [
      "/shared/centos7/python/3.6.6/lib/python3.6/site-packages/sklearn/model_selection/_split.py:2026: FutureWarning: From version 0.21, test_size will always complement train_size unless both are specified.\n",
      "  FutureWarning)\n"
     ]
    },
    {
     "name": "stdout",
     "output_type": "stream",
     "text": [
      "Train on 151592 samples, validate on 7979 samples\n",
      "Epoch 1/3\n",
      "151592/151592 [==============================] - 2850s 19ms/step - loss: 0.0688 - acc: 0.9767 - val_loss: 0.0477 - val_acc: 0.9820\n",
      "Epoch 2/3\n",
      "151592/151592 [==============================] - 2706s 18ms/step - loss: 0.0448 - acc: 0.9830 - val_loss: 0.0446 - val_acc: 0.9824\n",
      "Epoch 3/3\n",
      "151592/151592 [==============================] - 2680s 18ms/step - loss: 0.0393 - acc: 0.9849 - val_loss: 0.0438 - val_acc: 0.9826\n",
      "Predicting on the unseen data...\n",
      "Predictions done... Results saved successfully!\n"
     ]
    }
   ],
   "source": [
    "# Get data\n",
    "data, embedding_matrix = load_data()\n",
    "\n",
    "# Compile model\n",
    "model = compile_model(embedding_matrix)\n",
    "\n",
    "# Run network\n",
    "hist = run_network(data, model)\n",
    "\n",
    "with open('./cnn_history.json', 'w') as f:\n",
    "    json.dump(hist.history, f)"
   ]
  },
  {
   "cell_type": "code",
   "execution_count": null,
   "metadata": {},
   "outputs": [],
   "source": []
  }
 ],
 "metadata": {
  "kernelspec": {
   "display_name": "Python 3",
   "language": "python",
   "name": "python3"
  },
  "language_info": {
   "codemirror_mode": {
    "name": "ipython",
    "version": 3
   },
   "file_extension": ".py",
   "mimetype": "text/x-python",
   "name": "python",
   "nbconvert_exporter": "python",
   "pygments_lexer": "ipython3",
   "version": "3.6.6"
  }
 },
 "nbformat": 4,
 "nbformat_minor": 2
}
