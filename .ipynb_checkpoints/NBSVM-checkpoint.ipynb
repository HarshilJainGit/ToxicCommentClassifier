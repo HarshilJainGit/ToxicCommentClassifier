{
 "cells": [
  {
   "cell_type": "markdown",
   "metadata": {},
   "source": [
    "### Naive Bayes SVM"
   ]
  },
  {
   "cell_type": "markdown",
   "metadata": {},
   "source": [
    "This model is implemented with the help of paper on sentiment classification - https://\n",
    "nlp.stanford.edu/pubs/sidaw12_simple_sentiment.pdf"
   ]
  },
  {
   "cell_type": "code",
   "execution_count": 36,
   "metadata": {},
   "outputs": [],
   "source": [
    "#!/usr/bin/env python3\n",
    "\n",
    "import re\n",
    "import string\n",
    "import pandas as pd\n",
    "import seaborn as sns\n",
    "from matplotlib import pyplot as plt\n",
    "import numpy as np\n",
    "from sklearn.linear_model import LogisticRegression\n",
    "from sklearn.feature_extraction.text import CountVectorizer, TfidfVectorizer"
   ]
  },
  {
   "cell_type": "code",
   "execution_count": 16,
   "metadata": {},
   "outputs": [],
   "source": [
    "# Some global declarations\n",
    "label_cols = ['toxic', 'severe_toxic', 'obscene', 'threat', 'insult', 'identity_hate']\n",
    "re_tok = re.compile(f'([{string.punctuation}“”¨«»®´·º½¾¿¡§£₤‘’])')"
   ]
  },
  {
   "cell_type": "code",
   "execution_count": 31,
   "metadata": {},
   "outputs": [],
   "source": [
    "def load_and_process_data():\n",
    "    '''\n",
    "    Function to load train and test data along \n",
    "    with handling of missing data\n",
    "    '''\n",
    "    train_set = pd.read_csv('./data/train.csv')\n",
    "    test_set = pd.read_csv('./data/test.csv')\n",
    "    sample_submission = pd.read_csv('./data/sample_submission.csv')\n",
    "\n",
    "    train_set['none'] = 1 - train_set[label_cols].max(axis=1)\n",
    "    train_set['comment_text'].fillna(\"unknown\", inplace=True)\n",
    "    test_set['comment_text'].fillna(\"unknown\", inplace=True)\n",
    "    \n",
    "    return train_set, test_set, sample_submission"
   ]
  },
  {
   "cell_type": "code",
   "execution_count": 18,
   "metadata": {},
   "outputs": [],
   "source": [
    "def tokenize(s): \n",
    "    '''\n",
    "    tokenizer for TFIDF\n",
    "    '''\n",
    "    return re_tok.sub(r' \\1 ', s).split()"
   ]
  },
  {
   "cell_type": "code",
   "execution_count": 19,
   "metadata": {},
   "outputs": [],
   "source": [
    "def get_vectorized_features(train, test):\n",
    "    '''\n",
    "    Convert both test and train comments to term-document \n",
    "    matrix using TFIDF technique.\n",
    "    '''\n",
    "    n = train.shape[0]\n",
    "    vec = TfidfVectorizer(ngram_range=(1,2), tokenizer=tokenize, min_df=3, \n",
    "                          max_df=0.9, strip_accents='unicode', use_idf=1,\n",
    "                          smooth_idf=1, sublinear_tf=1)\n",
    "    train_term_doc = vec.fit_transform(train['comment_text'])\n",
    "    test_term_doc = vec.transform(test['comment_text'])\n",
    "    \n",
    "    return train_term_doc, test_term_doc"
   ]
  },
  {
   "cell_type": "code",
   "execution_count": 20,
   "metadata": {},
   "outputs": [],
   "source": [
    "def pr(x, y_i, y):\n",
    "    '''\n",
    "    Probability function for naive-bayes\n",
    "    '''\n",
    "    p = x[y==y_i].sum(0)\n",
    "    return (p + 1) / ((y == y_i).sum() + 1)"
   ]
  },
  {
   "cell_type": "code",
   "execution_count": 21,
   "metadata": {},
   "outputs": [],
   "source": [
    "def get_model(x, y):\n",
    "    '''\n",
    "    SVM model is built on top of Naive Bayes features.\n",
    "    Logistic Regression model is used on top of these features\n",
    "    since it is almost identical to SVM.\n",
    "    '''\n",
    "    y = y.values\n",
    "    r = np.log(pr(x, 1, y) / pr(x, 0, y))\n",
    "    model = LogisticRegression(C=4, dual=True)\n",
    "    x_nb = x.multiply(r)\n",
    "    return model.fit(x_nb, y), r"
   ]
  },
  {
   "cell_type": "code",
   "execution_count": 32,
   "metadata": {},
   "outputs": [],
   "source": [
    "def main():\n",
    "    train, test, sample_submission = load_and_process_data()\n",
    "    x_train, x_test = get_vectorized_features(train, test)\n",
    "    preds = np.zeros((len(test), len(label_cols)))\n",
    "    \n",
    "    for i, j in enumerate(label_cols):\n",
    "        model, r = get_model(x_train, train[j])\n",
    "        preds[:, i] = model.predict_proba(x_test.multiply(r))[:, 1]\n",
    "        \n",
    "    submid = pd.DataFrame({'id': sample_submission['id']})\n",
    "    results = pd.concat([submid, pd.DataFrame(preds, columns = label_cols)], axis=1)\n",
    "    results.to_csv('NBSVM_results.csv', index=False)"
   ]
  },
  {
   "cell_type": "code",
   "execution_count": 38,
   "metadata": {},
   "outputs": [
    {
     "data": {
      "text/plain": [
       "<matplotlib.axes._subplots.AxesSubplot at 0x1a1b77b588>"
      ]
     },
     "execution_count": 38,
     "metadata": {},
     "output_type": "execute_result"
    },
    {
     "data": {
      "image/png": "[encoded data removed]",
      "text/plain": [
       "<Figure size 1152x720 with 6 Axes>"
      ]
     },
     "metadata": {
      "needs_background": "light"
     },
     "output_type": "display_data"
    }
   ],
   "source": [
    "train_det = pd.read_csv('./data/train.csv')\n",
    "\n",
    "fig,ax = plt.subplots(2,3,figsize=(16,10))\n",
    "ax1,ax2,ax3,ax4,ax5,ax6 = ax.flatten()\n",
    "sns.countplot(train_det['toxic'],palette= 'viridis',ax=ax1)\n",
    "sns.countplot(train_det['severe_toxic'], palette= 'viridis',ax=ax2)\n",
    "sns.countplot(train_det['obscene'], palette= 'viridis',ax=ax3)\n",
    "sns.countplot(train_det['threat'], palette= 'viridis',ax = ax4)\n",
    "sns.countplot(train_det['insult'], palette = 'viridis',ax=ax5)\n",
    "sns.countplot(train_det['identity_hate'], palette = 'viridis', ax = ax6)"
   ]
  },
  {
   "cell_type": "code",
   "execution_count": 25,
   "metadata": {},
   "outputs": [],
   "source": [
    "if __name__ == '__main__':\n",
    "    main()"
   ]
  },
  {
   "cell_type": "code",
   "execution_count": 26,
   "metadata": {},
   "outputs": [],
   "source": [
    "output = pd.read_csv('./NBSVM_results.csv')"
   ]
  },
  {
   "cell_type": "code",
   "execution_count": 27,
   "metadata": {},
   "outputs": [
    {
     "name": "stdout",
     "output_type": "stream",
     "text": [
      "                      id     toxic  severe_toxic   obscene    threat  \\\n",
      "0       00001cee341fdb12  0.999988      0.106271  0.999987  0.002369   \n",
      "1       0000247867823ef7  0.002873      0.000604  0.001893  0.000100   \n",
      "2       00013b17ad220c46  0.011755      0.000864  0.005588  0.000102   \n",
      "3       00017563c3f7919a  0.000960      0.000224  0.001141  0.000171   \n",
      "4       00017695ad8997eb  0.009957      0.000485  0.002009  0.000131   \n",
      "5       0001ea8717f6de06  0.004428      0.000280  0.001964  0.000373   \n",
      "6       00024115d4cbde0f  0.000535      0.000156  0.000825  0.000102   \n",
      "7       000247e83dcc1211  0.187793      0.000366  0.003324  0.000132   \n",
      "8       00025358d4737918  0.009363      0.000135  0.002518  0.000095   \n",
      "9       00026d1092fe71cc  0.003037      0.000229  0.002203  0.000110   \n",
      "10      0002eadc3b301559  0.083053      0.000150  0.016769  0.000207   \n",
      "11      0002f87b16116a7f  0.148282      0.000203  0.008982  0.000154   \n",
      "12      0003806b11932181  0.003228      0.000197  0.001266  0.000084   \n",
      "13      0003e1cccfd5a40a  0.003640      0.000138  0.001658  0.000081   \n",
      "14      00059ace3e3e9a53  0.002010      0.000223  0.001959  0.000078   \n",
      "15      000634272d0d44eb  0.013458      0.000504  0.003320  0.000111   \n",
      "16      000663aff0fffc80  0.011535      0.000413  0.002984  0.000119   \n",
      "17      000689dd34e20979  0.007023      0.000244  0.001936  0.000076   \n",
      "18      000834769115370c  0.001070      0.000149  0.000418  0.000080   \n",
      "19      000844b52dee5f3f  0.003612      0.000456  0.000635  0.000124   \n",
      "20      00084da5d4ead7aa  0.014626      0.000764  0.004933  0.000100   \n",
      "21      00091c35fa9d0465  0.281681      0.004354  0.014948  0.006301   \n",
      "22      000968ce11f5ee34  0.012133      0.000233  0.001833  0.000197   \n",
      "23      0009734200a85047  0.003533      0.000271  0.001890  0.000106   \n",
      "24      00097b6214686db5  0.026564      0.000320  0.012023  0.000210   \n",
      "25      0009aef4bd9e1697  0.003750      0.000250  0.001917  0.000131   \n",
      "26      000a02d807ae0254  0.004986      0.000249  0.002551  0.000201   \n",
      "27      000a6c6d4e89b9bc  0.035842      0.000816  0.009424  0.000106   \n",
      "28      000bafe2080bba82  0.091999      0.000888  0.002398  0.000371   \n",
      "29      000bf0a9894b2807  0.003321      0.000240  0.001280  0.000086   \n",
      "...                  ...       ...           ...       ...       ...   \n",
      "153134  fff3ae2e177b6bb3  0.002325      0.000259  0.002130  0.000073   \n",
      "153135  fff4109e837f7acc  0.008652      0.000288  0.002119  0.000108   \n",
      "153136  fff4373a81ef9f2a  0.000852      0.000062  0.000590  0.000119   \n",
      "153137  fff460574ddbcd80  0.012528      0.000266  0.004028  0.000124   \n",
      "153138  fff4fc0a1555be5c  0.007159      0.000225  0.002962  0.000110   \n",
      "153139  fff5b9bb944d634c  0.002841      0.000267  0.001838  0.000097   \n",
      "153140  fff5c4a77fe0c05f  0.005740      0.000424  0.002410  0.000095   \n",
      "153141  fff5fb61bd637c82  0.002662      0.000207  0.000997  0.000098   \n",
      "153142  fff69311f306df44  0.005880      0.000351  0.001780  0.000096   \n",
      "153143  fff6ad63666fb304  0.999943      0.001526  0.995520  0.000931   \n",
      "153144  fff7159b3ee95618  0.023022      0.000687  0.005124  0.000133   \n",
      "153145  fff718ffe5f05559  0.003207      0.000265  0.001317  0.000113   \n",
      "153146  fff7fc22a0cdccd3  0.002190      0.000294  0.001755  0.000188   \n",
      "153147  fff83b80284d8440  0.004067      0.003003  0.002162  0.000067   \n",
      "153148  fff8ef316d0c6990  0.013927      0.000660  0.007180  0.000113   \n",
      "153149  fff8f521a7dbcd47  0.246352      0.002702  0.014607  0.000542   \n",
      "153150  fff8f64043129fa2  0.004216      0.000238  0.001459  0.000124   \n",
      "153151  fff9d70fe0722906  0.384759      0.001617  0.071984  0.000148   \n",
      "153152  fff9fa508f400ee6  0.152462      0.000678  0.055080  0.000162   \n",
      "153153  fffa3fae1890b40a  0.951062      0.005803  0.355225  0.002306   \n",
      "153154  fffa8a11c4378854  0.777393      0.015265  0.033048  0.000515   \n",
      "153155  fffac2a094c8e0e2  0.998582      0.029124  0.998397  0.000142   \n",
      "153156  fffb5451268fb5ba  0.014413      0.000270  0.002410  0.000134   \n",
      "153157  fffc2b34bbe61c8d  0.006282      0.000212  0.001600  0.000090   \n",
      "153158  fffc489742ffe69b  0.990677      0.001067  0.126726  0.000124   \n",
      "153159  fffcd0960ee309b5  0.587043      0.000306  0.068049  0.000124   \n",
      "153160  fffd7a9a6eb32c16  0.017870      0.001059  0.019963  0.001189   \n",
      "153161  fffda9e8d6fafa9e  0.001385      0.000155  0.002670  0.000075   \n",
      "153162  fffe8f1340a79fc2  0.007988      0.000333  0.002255  0.000094   \n",
      "153163  ffffce3fb183ee80  0.945722      0.000114  0.428270  0.000339   \n",
      "\n",
      "          insult  identity_hate  \n",
      "0       0.962578       0.094957  \n",
      "1       0.002227       0.000342  \n",
      "2       0.003210       0.000297  \n",
      "3       0.001057       0.000297  \n",
      "4       0.002395       0.000351  \n",
      "5       0.003182       0.000364  \n",
      "6       0.000704       0.000411  \n",
      "7       0.007759       0.000342  \n",
      "8       0.003299       0.000394  \n",
      "9       0.002957       0.000276  \n",
      "10      0.004180       0.000380  \n",
      "11      0.011276       0.000873  \n",
      "12      0.001199       0.000205  \n",
      "13      0.001007       0.000181  \n",
      "14      0.001418       0.000207  \n",
      "15      0.003932       0.000373  \n",
      "16      0.004341       0.000373  \n",
      "17      0.001969       0.000385  \n",
      "18      0.000345       0.000170  \n",
      "19      0.000591       0.000352  \n",
      "20      0.004411       0.000384  \n",
      "21      0.067395       0.009873  \n",
      "22      0.002814       0.001498  \n",
      "23      0.001731       0.000298  \n",
      "24      0.005697       0.000686  \n",
      "25      0.002814       0.000304  \n",
      "26      0.001989       0.000383  \n",
      "27      0.011693       0.000427  \n",
      "28      0.014365       0.044252  \n",
      "29      0.002232       0.000411  \n",
      "...          ...            ...  \n",
      "153134  0.001531       0.000224  \n",
      "153135  0.001534       0.000309  \n",
      "153136  0.000294       0.000127  \n",
      "153137  0.003176       0.000993  \n",
      "153138  0.003273       0.000348  \n",
      "153139  0.001606       0.000467  \n",
      "153140  0.001753       0.000234  \n",
      "153141  0.001118       0.000228  \n",
      "153142  0.002654       0.000344  \n",
      "153143  0.859370       0.003331  \n",
      "153144  0.008803       0.000382  \n",
      "153145  0.002126       0.000598  \n",
      "153146  0.001309       0.000320  \n",
      "153147  0.008431       0.000171  \n",
      "153148  0.004878       0.000443  \n",
      "153149  0.040689       0.001924  \n",
      "153150  0.000763       0.000241  \n",
      "153151  0.030128       0.000760  \n",
      "153152  0.003397       0.000379  \n",
      "153153  0.023371       0.000638  \n",
      "153154  0.033949       0.011185  \n",
      "153155  0.973952       0.016208  \n",
      "153156  0.004845       0.000312  \n",
      "153157  0.001922       0.000335  \n",
      "153158  0.960649       0.000459  \n",
      "153159  0.018646       0.000380  \n",
      "153160  0.018995       0.001624  \n",
      "153161  0.000937       0.000189  \n",
      "153162  0.002195       0.000871  \n",
      "153163  0.044716       0.000805  \n",
      "\n",
      "[153164 rows x 7 columns]\n"
     ]
    }
   ],
   "source": [
    "print(output)"
   ]
  },
  {
   "cell_type": "code",
   "execution_count": 29,
   "metadata": {},
   "outputs": [],
   "source": [
    "accuracy_n_loss = pd.read_csv('./average_NBSVM.csv')"
   ]
  },
  {
   "cell_type": "code",
   "execution_count": 30,
   "metadata": {
    "scrolled": true
   },
   "outputs": [
    {
     "name": "stdout",
     "output_type": "stream",
     "text": [
      "   0.9743766086258817\n",
      "0            0.808171\n",
      "1            0.885011\n",
      "2            0.025623\n"
     ]
    }
   ],
   "source": [
    "print(accuracy_n_loss)"
   ]
  },
  {
   "cell_type": "code",
   "execution_count": null,
   "metadata": {},
   "outputs": [],
   "source": []
  }
 ],
 "metadata": {
  "kernelspec": {
   "display_name": "Python 3",
   "language": "python",
   "name": "python3"
  },
  "language_info": {
   "codemirror_mode": {
    "name": "ipython",
    "version": 3
   },
   "file_extension": ".py",
   "mimetype": "text/x-python",
   "name": "python",
   "nbconvert_exporter": "python",
   "pygments_lexer": "ipython3",
   "version": "3.7.1"
  }
 },
 "nbformat": 4,
 "nbformat_minor": 2
}
