{
 "cells": [
  {
   "cell_type": "markdown",
   "metadata": {},
   "source": [
    "### Logistic Regression"
   ]
  },
  {
   "cell_type": "markdown",
   "metadata": {},
   "source": [
    "This model is built using simple Logistic Regression. Text data is transformed into feature vectors using TFIDF on both words as well as characters."
   ]
  },
  {
   "cell_type": "code",
   "execution_count": 2,
   "metadata": {},
   "outputs": [],
   "source": [
    "#!/usr/bin/env python3\n",
    "\n",
    "import numpy as np\n",
    "import pandas as pd\n",
    "from matplotlib import pyplot as plt\n",
    "from scipy.sparse import hstack\n",
    "import seaborn as sns\n",
    "from sklearn.feature_extraction.text import TfidfVectorizer\n",
    "from sklearn.linear_model import LogisticRegression\n",
    "from sklearn.model_selection import cross_val_score"
   ]
  },
  {
   "cell_type": "code",
   "execution_count": 3,
   "metadata": {},
   "outputs": [],
   "source": [
    "def load_data():\n",
    "    '''\n",
    "    Load data from csv files.\n",
    "    :return train_data: Pandas dataframe of complete train data\n",
    "    :return test_data: Pandas dataframe of complete test data\n",
    "    :return train_text: Pandas series of text comments in train data\n",
    "    :return test_text: Pandas series of text comments in test data\n",
    "    :return all_text: train_text and test_text combined together\n",
    "    '''\n",
    "    # Load data\n",
    "    train_data = pd.read_csv('./data/train.csv').fillna(' ')\n",
    "    test_data = pd.read_csv('./data/test.csv').fillna(' ')\n",
    "\n",
    "    # Take comment data\n",
    "    train_text = train_data['comment_text']\n",
    "    test_text = test_data['comment_text']\n",
    "    \n",
    "    # Combine train and test\n",
    "    combine_text = pd.concat([train_text, test_text])\n",
    "    return train_data, test_data, train_text, test_text, combine_text"
   ]
  },
  {
   "cell_type": "code",
   "execution_count": 4,
   "metadata": {},
   "outputs": [],
   "source": [
    "def get_vectorized_features(train_text, test_text, combine_text):\n",
    "    '''\n",
    "    This function applied tf-idf technique on both words and characters\n",
    "    in the text comments to feed to Logistic Regression classifier.\n",
    "    :param train_text: Pandas series containing train comments\n",
    "    :param test_text: Pandas series containing test comments\n",
    "    :param combine_text: Pnadas series contaning combined train and text comments\n",
    "    :return combined word and character vectorized features for both\n",
    "        train and test text data\n",
    "    '''\n",
    "    \n",
    "    # For words\n",
    "    word_vect = TfidfVectorizer(sublinear_tf=True, strip_accents='unicode', \n",
    "                                      analyzer='word',token_pattern=r'\\w{1,}',\n",
    "                                      stop_words='english',ngram_range=(1, 1),\n",
    "                                      max_features=10000)\n",
    "    word_vect.fit(combine_text)\n",
    "    train_wordFeatures = word_vect.transform(train_text)\n",
    "    test_wordFeatures = word_vect.transform(test_text)\n",
    "\n",
    "    # For characters\n",
    "    char_vect = TfidfVectorizer(\n",
    "        sublinear_tf=True,\n",
    "        strip_accents='unicode',\n",
    "        analyzer='char',\n",
    "        stop_words='english',\n",
    "        ngram_range=(2, 6),\n",
    "        max_features=50000\n",
    "    )\n",
    "    char_vect.fit(combine_text)\n",
    "    train_charFeatures = char_vect.transform(train_text)\n",
    "    test_charFeatures = char_vect.transform(test_text)\n",
    "\n",
    "    # Stack word and character features for train\n",
    "    train_features = hstack([train_charFeatures, train_wordFeatures])\n",
    "    # Stack word and character features for test\n",
    "    test_features = hstack([test_charFeatures, test_wordFeatures])\n",
    "    \n",
    "    return train_features, test_features"
   ]
  },
  {
   "cell_type": "code",
   "execution_count": 5,
   "metadata": {},
   "outputs": [],
   "source": [
    "def run_classifier(train, test, train_features, test_features):\n",
    "    '''\n",
    "    Runs Logistic Regression model for each individual class as one comment\n",
    "    can have multiple class labels.\n",
    "    :param train: Pandas dataframe of complete train data\n",
    "    :param test: Pandas dataframe of complete test data\n",
    "    :param train_features: Vectorized TFIDF features of text comments in\n",
    "        the train data\n",
    "    :param test_features: Vectorized TFIDF features of text comments in\n",
    "        the test data        \n",
    "    '''\n",
    "    scores = []\n",
    "    class_names = ['toxic', 'severe_toxic', 'obscene', 'threat', 'insult', 'identity_hate']\n",
    "    \n",
    "    # Create empty dataframe with each class label to store predictions\n",
    "    result = pd.DataFrame.from_dict({'id': test['id']})\n",
    "    \n",
    "    # Run for every class\n",
    "    for class_name in class_names:\n",
    "        # Get labels for current class from train data\n",
    "        train_target = train[class_name]\n",
    "        # Create a classifier\n",
    "        classifier = LogisticRegression(C=0.1, solver='sag')\n",
    "        # Fit the data\n",
    "        classifier.fit(train_features, train_target)\n",
    "        # Predict\n",
    "        result[class_name] = classifier.predict_proba(test_features)[:, 1]\n",
    "    #print('Total CV score is {}'.format(np.mean(scores)))\n",
    "\n",
    "    # Save prediction results (probabilities) to a csv file to analyze later\n",
    "    result.to_csv('logistic_results.csv', index=False)"
   ]
  },
  {
   "cell_type": "code",
   "execution_count": 6,
   "metadata": {},
   "outputs": [
    {
     "name": "stdout",
     "output_type": "stream",
     "text": [
      "Training Data distribution\n",
      "Training Done\n"
     ]
    },
    {
     "data": {
      "image/png": "[encoded data removed]",
      "text/plain": [
       "<Figure size 1152x720 with 6 Axes>"
      ]
     },
     "metadata": {
      "needs_background": "light"
     },
     "output_type": "display_data"
    }
   ],
   "source": [
    "# Load data\n",
    "train_data, test_data, train_text, test_text, all_text = load_data()\n",
    "\n",
    "print('Training Data distribution')\n",
    "fig,ax = plt.subplots(2,3,figsize=(16,10))\n",
    "ax1,ax2,ax3,ax4,ax5,ax6 = ax.flatten()\n",
    "sns.countplot(train_data['toxic'],palette= 'viridis',ax=ax1)\n",
    "sns.countplot(train_data['severe_toxic'], palette= 'viridis',ax=ax2)\n",
    "sns.countplot(train_data['obscene'], palette= 'viridis',ax=ax3)\n",
    "sns.countplot(train_data['threat'], palette= 'viridis',ax = ax4)\n",
    "sns.countplot(train_data['insult'], palette = 'viridis',ax=ax5)\n",
    "sns.countplot(train_data['identity_hate'], palette = 'viridis', ax = ax6)\n",
    "\n",
    "print('Training Done')\n"
   ]
  },
  {
   "cell_type": "code",
   "execution_count": 66,
   "metadata": {},
   "outputs": [
    {
     "name": "stdout",
     "output_type": "stream",
     "text": [
      "Obtained Vectorized features\n"
     ]
    }
   ],
   "source": [
    "# # Get vectorized features using TFIDF on words as well as characters\n",
    "train_features, test_features = get_vectorized_features(train_text, test_text, all_text)\n",
    "print('Obtained Vectorized features')\n"
   ]
  },
  {
   "cell_type": "code",
   "execution_count": 67,
   "metadata": {},
   "outputs": [
    {
     "name": "stderr",
     "output_type": "stream",
     "text": [
      "/Users/gaurav/anaconda3/lib/python3.7/site-packages/numpy/core/fromnumeric.py:2920: RuntimeWarning: Mean of empty slice.\n",
      "  out=out, **kwargs)\n",
      "/Users/gaurav/anaconda3/lib/python3.7/site-packages/numpy/core/_methods.py:85: RuntimeWarning: invalid value encountered in double_scalars\n",
      "  ret = ret.dtype.type(ret / rcount)\n"
     ]
    },
    {
     "name": "stdout",
     "output_type": "stream",
     "text": [
      "Total CV score is nan\n",
      "Ran classifier successfully\n"
     ]
    }
   ],
   "source": [
    "# # Run the model\n",
    "run_classifier(train_data, test_data, train_features, test_features)\n",
    "print('Ran classifier successfully')"
   ]
  },
  {
   "cell_type": "code",
   "execution_count": 68,
   "metadata": {},
   "outputs": [],
   "source": [
    "output = pd.read_csv('./logistic_results.csv')"
   ]
  },
  {
   "cell_type": "code",
   "execution_count": 47,
   "metadata": {},
   "outputs": [
    {
     "name": "stdout",
     "output_type": "stream",
     "text": [
      "                      id     toxic  severe_toxic   obscene    threat  \\\n",
      "0       00001cee341fdb12  0.982228      0.087444  0.956477  0.012206   \n",
      "1       0000247867823ef7  0.027559      0.005408  0.017161  0.002533   \n",
      "2       00013b17ad220c46  0.026834      0.005304  0.015824  0.002480   \n",
      "3       00017563c3f7919a  0.013824      0.003824  0.010002  0.002263   \n",
      "4       00017695ad8997eb  0.060083      0.004325  0.022016  0.002388   \n",
      "5       0001ea8717f6de06  0.020064      0.004348  0.011832  0.002964   \n",
      "6       00024115d4cbde0f  0.016450      0.003041  0.011307  0.001712   \n",
      "7       000247e83dcc1211  0.246539      0.007243  0.047921  0.003706   \n",
      "8       00025358d4737918  0.025716      0.003041  0.016132  0.002068   \n",
      "9       00026d1092fe71cc  0.018060      0.003151  0.012630  0.002093   \n",
      "10      0002eadc3b301559  0.131311      0.002790  0.041520  0.002108   \n",
      "11      0002f87b16116a7f  0.094675      0.003842  0.028435  0.002418   \n",
      "12      0003806b11932181  0.015780      0.002708  0.008506  0.001558   \n",
      "13      0003e1cccfd5a40a  0.019706      0.002792  0.013748  0.001777   \n",
      "14      00059ace3e3e9a53  0.008044      0.001913  0.006288  0.001241   \n",
      "15      000634272d0d44eb  0.028193      0.003538  0.013514  0.002113   \n",
      "16      000663aff0fffc80  0.050899      0.006655  0.025471  0.002780   \n",
      "17      000689dd34e20979  0.038796      0.003751  0.019074  0.002008   \n",
      "18      000834769115370c  0.004090      0.001198  0.003459  0.000936   \n",
      "19      000844b52dee5f3f  0.039511      0.005776  0.020348  0.001950   \n",
      "20      00084da5d4ead7aa  0.045842      0.006432  0.024155  0.002773   \n",
      "21      00091c35fa9d0465  0.181794      0.009644  0.046757  0.004922   \n",
      "22      000968ce11f5ee34  0.084909      0.006060  0.029721  0.003963   \n",
      "23      0009734200a85047  0.020742      0.002726  0.011636  0.001861   \n",
      "24      00097b6214686db5  0.076143      0.004713  0.031498  0.003178   \n",
      "25      0009aef4bd9e1697  0.025674      0.002998  0.012883  0.002440   \n",
      "26      000a02d807ae0254  0.022485      0.003449  0.013214  0.002357   \n",
      "27      000a6c6d4e89b9bc  0.086545      0.007225  0.035977  0.002875   \n",
      "28      000bafe2080bba82  0.236080      0.008169  0.055452  0.003960   \n",
      "29      000bf0a9894b2807  0.035087      0.003978  0.020484  0.002206   \n",
      "...                  ...       ...           ...       ...       ...   \n",
      "153134  fff3ae2e177b6bb3  0.020544      0.002465  0.013226  0.001717   \n",
      "153135  fff4109e837f7acc  0.019859      0.002951  0.011918  0.001923   \n",
      "153136  fff4373a81ef9f2a  0.010600      0.002005  0.006742  0.001779   \n",
      "153137  fff460574ddbcd80  0.163360      0.009141  0.059087  0.004753   \n",
      "153138  fff4fc0a1555be5c  0.036554      0.004371  0.018806  0.002546   \n",
      "153139  fff5b9bb944d634c  0.022637      0.002717  0.014086  0.001400   \n",
      "153140  fff5c4a77fe0c05f  0.035799      0.003147  0.015155  0.001969   \n",
      "153141  fff5fb61bd637c82  0.024091      0.002918  0.011515  0.001949   \n",
      "153142  fff69311f306df44  0.066187      0.005810  0.023055  0.002726   \n",
      "153143  fff6ad63666fb304  0.917692      0.122124  0.846271  0.004986   \n",
      "153144  fff7159b3ee95618  0.061308      0.005618  0.023672  0.003454   \n",
      "153145  fff718ffe5f05559  0.022994      0.003026  0.010637  0.001829   \n",
      "153146  fff7fc22a0cdccd3  0.007101      0.002378  0.008681  0.001587   \n",
      "153147  fff83b80284d8440  0.039154      0.004733  0.017080  0.002134   \n",
      "153148  fff8ef316d0c6990  0.054692      0.004395  0.022406  0.002089   \n",
      "153149  fff8f521a7dbcd47  0.268397      0.012737  0.057494  0.004106   \n",
      "153150  fff8f64043129fa2  0.008291      0.001775  0.005791  0.001602   \n",
      "153151  fff9d70fe0722906  0.223761      0.011945  0.118220  0.003625   \n",
      "153152  fff9fa508f400ee6  0.099127      0.005112  0.051703  0.002256   \n",
      "153153  fffa3fae1890b40a  0.330275      0.008853  0.159528  0.006662   \n",
      "153154  fffa8a11c4378854  0.393027      0.012188  0.089925  0.004686   \n",
      "153155  fffac2a094c8e0e2  0.874314      0.039196  0.746968  0.004149   \n",
      "153156  fffb5451268fb5ba  0.035079      0.004490  0.019234  0.002439   \n",
      "153157  fffc2b34bbe61c8d  0.026435      0.003068  0.011682  0.001719   \n",
      "153158  fffc489742ffe69b  0.682845      0.008705  0.228391  0.002724   \n",
      "153159  fffcd0960ee309b5  0.299738      0.005402  0.072284  0.002759   \n",
      "153160  fffd7a9a6eb32c16  0.068592      0.005812  0.033322  0.003185   \n",
      "153161  fffda9e8d6fafa9e  0.020315      0.003280  0.014763  0.002001   \n",
      "153162  fffe8f1340a79fc2  0.031317      0.002984  0.014815  0.001963   \n",
      "153163  ffffce3fb183ee80  0.637488      0.005761  0.272484  0.004884   \n",
      "\n",
      "          insult  identity_hate  \n",
      "0       0.864834       0.088017  \n",
      "1       0.016120       0.006817  \n",
      "2       0.013956       0.005711  \n",
      "3       0.010684       0.003246  \n",
      "4       0.021507       0.004859  \n",
      "5       0.016401       0.004713  \n",
      "6       0.011709       0.003316  \n",
      "7       0.056015       0.010250  \n",
      "8       0.012916       0.004361  \n",
      "9       0.012523       0.003712  \n",
      "10      0.017790       0.005004  \n",
      "11      0.023802       0.006987  \n",
      "12      0.008602       0.002573  \n",
      "13      0.011206       0.004751  \n",
      "14      0.005327       0.002103  \n",
      "15      0.014803       0.005352  \n",
      "16      0.023844       0.007801  \n",
      "17      0.015855       0.005016  \n",
      "18      0.001983       0.001197  \n",
      "19      0.018485       0.004311  \n",
      "20      0.018728       0.006738  \n",
      "21      0.044973       0.016391  \n",
      "22      0.038654       0.015826  \n",
      "23      0.009837       0.003988  \n",
      "24      0.026827       0.006877  \n",
      "25      0.012878       0.004532  \n",
      "26      0.010403       0.004716  \n",
      "27      0.034941       0.009655  \n",
      "28      0.075137       0.040256  \n",
      "29      0.020964       0.006203  \n",
      "...          ...            ...  \n",
      "153134  0.010344       0.003828  \n",
      "153135  0.007853       0.004825  \n",
      "153136  0.005767       0.002449  \n",
      "153137  0.058060       0.012652  \n",
      "153138  0.020172       0.006385  \n",
      "153139  0.011485       0.003741  \n",
      "153140  0.013502       0.003411  \n",
      "153141  0.011531       0.003635  \n",
      "153142  0.028823       0.008795  \n",
      "153143  0.510780       0.027206  \n",
      "153144  0.030482       0.008237  \n",
      "153145  0.012433       0.005164  \n",
      "153146  0.006561       0.002745  \n",
      "153147  0.019914       0.005506  \n",
      "153148  0.022665       0.006222  \n",
      "153149  0.064054       0.011907  \n",
      "153150  0.005402       0.002585  \n",
      "153151  0.114219       0.010010  \n",
      "153152  0.026893       0.005992  \n",
      "153153  0.095575       0.009018  \n",
      "153154  0.103070       0.027500  \n",
      "153155  0.624038       0.036832  \n",
      "153156  0.015901       0.005841  \n",
      "153157  0.011534       0.004072  \n",
      "153158  0.435812       0.008504  \n",
      "153159  0.038985       0.007233  \n",
      "153160  0.027417       0.009201  \n",
      "153161  0.011771       0.004834  \n",
      "153162  0.015098       0.009559  \n",
      "153163  0.144735       0.009082  \n",
      "\n",
      "[153164 rows x 7 columns]\n"
     ]
    }
   ],
   "source": [
    "print(output)"
   ]
  },
  {
   "cell_type": "code",
   "execution_count": 70,
   "metadata": {},
   "outputs": [],
   "source": [
    "accuracy_n_loss = pd.read_csv('./average_logistic.csv')"
   ]
  },
  {
   "cell_type": "code",
   "execution_count": 71,
   "metadata": {},
   "outputs": [
    {
     "name": "stdout",
     "output_type": "stream",
     "text": [
      "   0.9754785499182012\n",
      "0            0.881365\n",
      "1            0.846944\n",
      "2            0.024521\n"
     ]
    }
   ],
   "source": [
    "print(accuracy_n_loss)"
   ]
  },
  {
   "cell_type": "code",
   "execution_count": null,
   "metadata": {},
   "outputs": [],
   "source": []
  }
 ],
 "metadata": {
  "kernelspec": {
   "display_name": "Python 3",
   "language": "python",
   "name": "python3"
  },
  "language_info": {
   "codemirror_mode": {
    "name": "ipython",
    "version": 3
   },
   "file_extension": ".py",
   "mimetype": "text/x-python",
   "name": "python",
   "nbconvert_exporter": "python",
   "pygments_lexer": "ipython3",
   "version": "3.7.3"
  }
 },
 "nbformat": 4,
 "nbformat_minor": 2
}
